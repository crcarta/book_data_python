{
 "cells": [
  {
   "cell_type": "code",
   "execution_count": 1,
   "id": "156bb507",
   "metadata": {},
   "outputs": [],
   "source": [
    "import pandas as pd\n",
    "from zlib import crc32\n",
    "import sys\n",
    "import os\n",
    "assert sys.version_info >= (3,7)\n",
    "from packaging import version\n",
    "import sklearn\n",
    "import seaborn as sns\n",
    "import numpy as np\n",
    "import sklearn.utils\n",
    "assert version.parse(sklearn.__version__) >= version.parse(\"1.0.1\")\n",
    "import matplotlib.pyplot as plt\n",
    "from openexchangerate import OpenExchangeRates\n",
    "client = OpenExchangeRates(api_key=\"222b45a44e6942febcc242d1db027ddc\")\n",
    "import scipy.stats as stats\n",
    "#plotting figures\n",
    "%matplotlib inline\n",
    "plt.rc('font', size=14)\n",
    "plt.rc('axes', labelsize=14, titlesize=14)\n",
    "plt.rc('legend', fontsize=14)\n",
    "plt.rc('xtick', labelsize=10)\n",
    "plt.rc('ytick', labelsize=10)\n",
    "\n",
    "#Saving figures\n",
    "PROJECT_ROOT_DIR = \"/home/christian/compsci/ml_python/books_ml\"\n",
    "IMAGES_PATH = os.path.join(\"PROJECT_ROOT_DIR\", \"images\")\n",
    "os.makedirs(IMAGES_PATH, exist_ok=True)\n",
    "\n",
    "def save_fig(fig_id, tight_layout=True, fig_extension=\"png\", resolution=300):\n",
    "    path=os.path.join(IMAGES_PATH, fig_id + \".\" + fig_extension)\n",
    "    print(\"Saving figure\", fig_id)\n",
    "    if tight_layout:\n",
    "        plt.tight_layout()\n",
    "    plt.savefig(path, format=fig_extension, dpi=resolution)\n",
    "    \n",
    "    "
   ]
  },
  {
   "cell_type": "code",
   "execution_count": 2,
   "id": "e289279b",
   "metadata": {},
   "outputs": [],
   "source": [
    "import os\n",
    "BOOKS_PATH = os.path.join(\"/home/christian/compsci/ml_python/books_ml\", \"archive\")"
   ]
  },
  {
   "cell_type": "code",
   "execution_count": 3,
   "id": "33f4cbcb",
   "metadata": {},
   "outputs": [],
   "source": [
    "def fetch_data(books_path=BOOKS_PATH):\n",
    "    os.makedirs(books_path, exist_ok=True)"
   ]
  },
  {
   "cell_type": "code",
   "execution_count": 4,
   "id": "545adf27",
   "metadata": {},
   "outputs": [],
   "source": [
    "fetch_data()"
   ]
  },
  {
   "cell_type": "code",
   "execution_count": 5,
   "id": "ec2986ef",
   "metadata": {},
   "outputs": [],
   "source": [
    " def load_book_data(books_path=BOOKS_PATH):\n",
    "        csv_path = os.path.join(books_path, \"google_books_1299.csv\")\n",
    "        return pd.read_csv(csv_path, index_col=[0])"
   ]
  },
  {
   "cell_type": "code",
   "execution_count": 6,
   "id": "9eea93dc",
   "metadata": {},
   "outputs": [
    {
     "data": {
      "text/html": [
       "<div>\n",
       "<style scoped>\n",
       "    .dataframe tbody tr th:only-of-type {\n",
       "        vertical-align: middle;\n",
       "    }\n",
       "\n",
       "    .dataframe tbody tr th {\n",
       "        vertical-align: top;\n",
       "    }\n",
       "\n",
       "    .dataframe thead th {\n",
       "        text-align: right;\n",
       "    }\n",
       "</style>\n",
       "<table border=\"1\" class=\"dataframe\">\n",
       "  <thead>\n",
       "    <tr style=\"text-align: right;\">\n",
       "      <th></th>\n",
       "      <th>title</th>\n",
       "      <th>author</th>\n",
       "      <th>rating</th>\n",
       "      <th>voters</th>\n",
       "      <th>price</th>\n",
       "      <th>currency</th>\n",
       "      <th>description</th>\n",
       "      <th>publisher</th>\n",
       "      <th>page_count</th>\n",
       "      <th>generes</th>\n",
       "      <th>ISBN</th>\n",
       "      <th>language</th>\n",
       "      <th>published_date</th>\n",
       "    </tr>\n",
       "  </thead>\n",
       "  <tbody>\n",
       "    <tr>\n",
       "      <th>0</th>\n",
       "      <td>Attack on Titan: Volume 13</td>\n",
       "      <td>Hajime Isayama</td>\n",
       "      <td>4.6</td>\n",
       "      <td>428</td>\n",
       "      <td>43.28</td>\n",
       "      <td>SAR</td>\n",
       "      <td>NO SAFE PLACE LEFT At great cost to the Garris...</td>\n",
       "      <td>Kodansha Comics</td>\n",
       "      <td>192</td>\n",
       "      <td>none</td>\n",
       "      <td>9781612626864</td>\n",
       "      <td>English</td>\n",
       "      <td>Jul 31, 2014</td>\n",
       "    </tr>\n",
       "    <tr>\n",
       "      <th>1</th>\n",
       "      <td>Antiques Roadkill: A Trash 'n' Treasures Mystery</td>\n",
       "      <td>Barbara Allan</td>\n",
       "      <td>3.3</td>\n",
       "      <td>23</td>\n",
       "      <td>26.15</td>\n",
       "      <td>SAR</td>\n",
       "      <td>Determined to make a new start in her quaint h...</td>\n",
       "      <td>Kensington Publishing Corp.</td>\n",
       "      <td>288</td>\n",
       "      <td>Fiction , Mystery &amp;amp, Detective , Cozy , Gen...</td>\n",
       "      <td>9780758272799</td>\n",
       "      <td>English</td>\n",
       "      <td>Jul 1, 2007</td>\n",
       "    </tr>\n",
       "    <tr>\n",
       "      <th>2</th>\n",
       "      <td>The Art of Super Mario Odyssey</td>\n",
       "      <td>Nintendo</td>\n",
       "      <td>3.9</td>\n",
       "      <td>9</td>\n",
       "      <td>133.85</td>\n",
       "      <td>SAR</td>\n",
       "      <td>Take a globetrotting journey all over the worl...</td>\n",
       "      <td>Dark Horse Comics</td>\n",
       "      <td>368</td>\n",
       "      <td>Games &amp;amp, Activities , Video &amp;amp, Electronic</td>\n",
       "      <td>9781506713816</td>\n",
       "      <td>English</td>\n",
       "      <td>Nov 5, 2019</td>\n",
       "    </tr>\n",
       "    <tr>\n",
       "      <th>3</th>\n",
       "      <td>Getting Away Is Deadly: An Ellie Avery Mystery</td>\n",
       "      <td>Sara Rosett</td>\n",
       "      <td>4.0</td>\n",
       "      <td>10</td>\n",
       "      <td>26.15</td>\n",
       "      <td>SAR</td>\n",
       "      <td>With swollen feet and swelling belly, pregnant...</td>\n",
       "      <td>Kensington Publishing Corp.</td>\n",
       "      <td>320</td>\n",
       "      <td>none</td>\n",
       "      <td>9781617734076</td>\n",
       "      <td>English</td>\n",
       "      <td>Mar 1, 2009</td>\n",
       "    </tr>\n",
       "    <tr>\n",
       "      <th>4</th>\n",
       "      <td>The Painted Man (The Demon Cycle, Book 1)</td>\n",
       "      <td>Peter V. Brett</td>\n",
       "      <td>4.5</td>\n",
       "      <td>577</td>\n",
       "      <td>28.54</td>\n",
       "      <td>SAR</td>\n",
       "      <td>The stunning debut fantasy novel from author P...</td>\n",
       "      <td>HarperCollins UK</td>\n",
       "      <td>544</td>\n",
       "      <td>Fiction , Fantasy , Dark Fantasy</td>\n",
       "      <td>9780007287758</td>\n",
       "      <td>English</td>\n",
       "      <td>Jan 8, 2009</td>\n",
       "    </tr>\n",
       "  </tbody>\n",
       "</table>\n",
       "</div>"
      ],
      "text/plain": [
       "                                              title          author  rating  \\\n",
       "0                        Attack on Titan: Volume 13  Hajime Isayama     4.6   \n",
       "1  Antiques Roadkill: A Trash 'n' Treasures Mystery   Barbara Allan     3.3   \n",
       "2                    The Art of Super Mario Odyssey        Nintendo     3.9   \n",
       "3    Getting Away Is Deadly: An Ellie Avery Mystery     Sara Rosett     4.0   \n",
       "4         The Painted Man (The Demon Cycle, Book 1)  Peter V. Brett     4.5   \n",
       "\n",
       "  voters   price currency                                        description  \\\n",
       "0    428   43.28      SAR  NO SAFE PLACE LEFT At great cost to the Garris...   \n",
       "1     23   26.15      SAR  Determined to make a new start in her quaint h...   \n",
       "2      9  133.85      SAR  Take a globetrotting journey all over the worl...   \n",
       "3     10   26.15      SAR  With swollen feet and swelling belly, pregnant...   \n",
       "4    577   28.54      SAR  The stunning debut fantasy novel from author P...   \n",
       "\n",
       "                     publisher  page_count  \\\n",
       "0              Kodansha Comics         192   \n",
       "1  Kensington Publishing Corp.         288   \n",
       "2            Dark Horse Comics         368   \n",
       "3  Kensington Publishing Corp.         320   \n",
       "4             HarperCollins UK         544   \n",
       "\n",
       "                                             generes           ISBN language  \\\n",
       "0                                               none  9781612626864  English   \n",
       "1  Fiction , Mystery &amp, Detective , Cozy , Gen...  9780758272799  English   \n",
       "2    Games &amp, Activities , Video &amp, Electronic  9781506713816  English   \n",
       "3                                               none  9781617734076  English   \n",
       "4                   Fiction , Fantasy , Dark Fantasy  9780007287758  English   \n",
       "\n",
       "  published_date  \n",
       "0   Jul 31, 2014  \n",
       "1    Jul 1, 2007  \n",
       "2    Nov 5, 2019  \n",
       "3    Mar 1, 2009  \n",
       "4    Jan 8, 2009  "
      ]
     },
     "execution_count": 6,
     "metadata": {},
     "output_type": "execute_result"
    }
   ],
   "source": [
    "books = load_book_data()\n",
    "books.head()"
   ]
  },
  {
   "cell_type": "code",
   "execution_count": 7,
   "id": "4e88e6d0",
   "metadata": {},
   "outputs": [
    {
     "name": "stdout",
     "output_type": "stream",
     "text": [
      "<class 'pandas.core.frame.DataFrame'>\n",
      "Int64Index: 1299 entries, 0 to 1298\n",
      "Data columns (total 13 columns):\n",
      " #   Column          Non-Null Count  Dtype  \n",
      "---  ------          --------------  -----  \n",
      " 0   title           1299 non-null   object \n",
      " 1   author          1299 non-null   object \n",
      " 2   rating          1224 non-null   float64\n",
      " 3   voters          1224 non-null   object \n",
      " 4   price           1299 non-null   float64\n",
      " 5   currency        1299 non-null   object \n",
      " 6   description     1296 non-null   object \n",
      " 7   publisher       1299 non-null   object \n",
      " 8   page_count      1299 non-null   int64  \n",
      " 9   generes         1299 non-null   object \n",
      " 10  ISBN            1299 non-null   object \n",
      " 11  language        1299 non-null   object \n",
      " 12  published_date  1299 non-null   object \n",
      "dtypes: float64(2), int64(1), object(10)\n",
      "memory usage: 142.1+ KB\n"
     ]
    }
   ],
   "source": [
    "books.info()"
   ]
  },
  {
   "cell_type": "code",
   "execution_count": 8,
   "id": "5ee175cc",
   "metadata": {},
   "outputs": [
    {
     "name": "stdout",
     "output_type": "stream",
     "text": [
      "title - 0.0%\n",
      "author - 0.0%\n",
      "rating - 0.057736720554272515%\n",
      "voters - 0.057736720554272515%\n",
      "price - 0.0%\n",
      "currency - 0.0%\n",
      "description - 0.0023094688221709007%\n",
      "publisher - 0.0%\n",
      "page_count - 0.0%\n",
      "generes - 0.0%\n",
      "ISBN - 0.0%\n",
      "language - 0.0%\n",
      "published_date - 0.0%\n"
     ]
    }
   ],
   "source": [
    "for col in books.columns:\n",
    "    pct_missing = np.mean(books[col].isnull())\n",
    "    print('{} - {}%'.format(col, pct_missing))\n"
   ]
  },
  {
   "cell_type": "code",
   "execution_count": 9,
   "id": "e8e92d9d",
   "metadata": {},
   "outputs": [
    {
     "data": {
      "text/plain": [
       "0       4.6\n",
       "1       3.3\n",
       "2       3.9\n",
       "3       4.0\n",
       "4       4.5\n",
       "       ... \n",
       "1294    4.7\n",
       "1295    4.8\n",
       "1296    3.5\n",
       "1297    4.6\n",
       "1298    4.3\n",
       "Name: rating, Length: 1299, dtype: float64"
      ]
     },
     "execution_count": 9,
     "metadata": {},
     "output_type": "execute_result"
    }
   ],
   "source": [
    "median = books['rating'].median()\n",
    "books['rating'].fillna(median)"
   ]
  },
  {
   "cell_type": "code",
   "execution_count": 10,
   "id": "90eef8a9",
   "metadata": {},
   "outputs": [],
   "source": [
    "#We do not need for predictions\n",
    "del books[\"ISBN\"]\n",
    "del books[\"language\"]\n",
    "del books[\"title\"]\n",
    "del books[\"currency\"]   #All currency is SAR or Free, this is garbage data\n",
    "del books[\"description\"]\n",
    "#del books[\"voters\"]     #ambiguous description of what\n",
    "                        # a \"voter\" is. "
   ]
  },
  {
   "cell_type": "code",
   "execution_count": 11,
   "id": "be62e17f",
   "metadata": {},
   "outputs": [
    {
     "name": "stdout",
     "output_type": "stream",
     "text": [
      "<class 'pandas.core.frame.DataFrame'>\n",
      "Int64Index: 1299 entries, 0 to 1298\n",
      "Data columns (total 8 columns):\n",
      " #   Column          Non-Null Count  Dtype  \n",
      "---  ------          --------------  -----  \n",
      " 0   author          1299 non-null   object \n",
      " 1   rating          1224 non-null   float64\n",
      " 2   voters          1224 non-null   object \n",
      " 3   price           1299 non-null   float64\n",
      " 4   publisher       1299 non-null   object \n",
      " 5   page_count      1299 non-null   int64  \n",
      " 6   generes         1299 non-null   object \n",
      " 7   published_date  1299 non-null   object \n",
      "dtypes: float64(2), int64(1), object(5)\n",
      "memory usage: 91.3+ KB\n"
     ]
    }
   ],
   "source": [
    "#Confirm deletion of cols and dtypes\n",
    "books.info()"
   ]
  },
  {
   "cell_type": "code",
   "execution_count": 12,
   "id": "04c0d1e3",
   "metadata": {},
   "outputs": [
    {
     "data": {
      "text/plain": [
       "203           Zoe Ferraris\n",
       "218             Zig Ziglar\n",
       "847       Yevgeny Zamyatin\n",
       "38     William Shakespeare\n",
       "555      William J. O'Neil\n",
       "              ...         \n",
       "31               Alex Lake\n",
       "374             Alan Moore\n",
       "298               Al Ewing\n",
       "11         Agatha Christie\n",
       "9                 Adam Kay\n",
       "Name: author, Length: 183, dtype: object"
      ]
     },
     "execution_count": 12,
     "metadata": {},
     "output_type": "execute_result"
    }
   ],
   "source": [
    "books['author'].drop_duplicates().sort_values(ascending=False)"
   ]
  },
  {
   "cell_type": "code",
   "execution_count": 13,
   "id": "74039956",
   "metadata": {},
   "outputs": [
    {
     "name": "stdout",
     "output_type": "stream",
     "text": [
      "2192.0\n",
      "15.0\n",
      "0       192.0\n",
      "1       288.0\n",
      "2       368.0\n",
      "3       320.0\n",
      "4       544.0\n",
      "        ...  \n",
      "1294    112.0\n",
      "1295    368.0\n",
      "1296    176.0\n",
      "1297    168.0\n",
      "1298    448.0\n",
      "Name: page_count, Length: 1299, dtype: float64\n"
     ]
    }
   ],
   "source": [
    "def removal(x):\n",
    "    if (x>upper):\n",
    "        x=upper\n",
    "    elif(x<lower):\n",
    "        x=lower\n",
    "    return x\n",
    "\n",
    "def removeupper(x):\n",
    "    if (x>upper):\n",
    "        x=upper\n",
    "    return x;\n",
    "\n",
    "ot = pd.DataFrame(books.page_count)\n",
    "upper=np.percentile(ot,[99])[0]\n",
    "print(upper)\n",
    "lower = np.percentile(ot,[1])[0]\n",
    "print(lower)\n",
    "gs=ot['page_count'].apply(removal)\n",
    "print(gs)\n",
    "books.page_count = gs\n",
    "\n",
    "#ot=pd.DataFrame(books.price)\n",
    "#upper=np.percentile(ot,[95])[0]\n",
    "#print(upper)\n",
    "#gs=ot['price'].apply(removeupper)\n",
    "#print(gs)\n",
    "#books.page_count = gs\n",
    "\n"
   ]
  },
  {
   "cell_type": "code",
   "execution_count": 14,
   "id": "5935805a",
   "metadata": {},
   "outputs": [
    {
     "name": "stdout",
     "output_type": "stream",
     "text": [
      "Saving figure attribute_hist_plts\n"
     ]
    },
    {
     "data": {
      "image/png": "[encoded data removed]",
      "text/plain": [
       "<Figure size 1440x1080 with 4 Axes>"
      ]
     },
     "metadata": {
      "needs_background": "light"
     },
     "output_type": "display_data"
    }
   ],
   "source": [
    "books.hist(bins=50, figsize=(20,15))\n",
    "save_fig(\"attribute_hist_plts\")\n",
    "plt.show()\n",
    "np.random.seed(42)"
   ]
  },
  {
   "cell_type": "code",
   "execution_count": 15,
   "id": "988e83e9",
   "metadata": {},
   "outputs": [],
   "source": [
    "def split_train_test(data, test_ratio):\n",
    "    shuffled_indices = np.random.permutation(len(data))\n",
    "    test_set_size = int(len(data) * test_ratio)\n",
    "    test_indices = shuffled_indices[:test_set_size]\n",
    "    train_indices = shuffled_indices[test_set_size:]\n",
    "    return data.iloc[train_indices], data.iloc[test_indices]\n"
   ]
  },
  {
   "cell_type": "code",
   "execution_count": 16,
   "id": "a4e530ea",
   "metadata": {},
   "outputs": [
    {
     "name": "stdout",
     "output_type": "stream",
     "text": [
      "1040 train + 259 test\n"
     ]
    }
   ],
   "source": [
    "train_set, test_set = split_train_test(books, 0.2)\n",
    "print(len(train_set), \"train +\", len(test_set), \"test\")"
   ]
  },
  {
   "cell_type": "code",
   "execution_count": 17,
   "id": "ac5406ba",
   "metadata": {},
   "outputs": [],
   "source": [
    "def test_set_check(indentifier, test_ratio):\n",
    "    return crc32(np.int64(indentifier)) & 0xffffffff < test_ratio * 2**32\n",
    "\n",
    "def split_train_test_by_id(data, test_ratio, id_column):\n",
    "    ids + data[id_column]\n",
    "    in_test_set = ids.apply(lambda id_:test_set_check(id_,test_ratio))\n",
    "    return data.loc[~in_test_set],data.loc[in_test_set]"
   ]
  },
  {
   "cell_type": "code",
   "execution_count": 18,
   "id": "d8126565",
   "metadata": {},
   "outputs": [
    {
     "data": {
      "text/html": [
       "<div>\n",
       "<style scoped>\n",
       "    .dataframe tbody tr th:only-of-type {\n",
       "        vertical-align: middle;\n",
       "    }\n",
       "\n",
       "    .dataframe tbody tr th {\n",
       "        vertical-align: top;\n",
       "    }\n",
       "\n",
       "    .dataframe thead th {\n",
       "        text-align: right;\n",
       "    }\n",
       "</style>\n",
       "<table border=\"1\" class=\"dataframe\">\n",
       "  <thead>\n",
       "    <tr style=\"text-align: right;\">\n",
       "      <th></th>\n",
       "      <th>author</th>\n",
       "      <th>rating</th>\n",
       "      <th>voters</th>\n",
       "      <th>price</th>\n",
       "      <th>publisher</th>\n",
       "      <th>page_count</th>\n",
       "      <th>generes</th>\n",
       "      <th>published_date</th>\n",
       "    </tr>\n",
       "  </thead>\n",
       "  <tbody>\n",
       "    <tr>\n",
       "      <th>1231</th>\n",
       "      <td>Adam Kay</td>\n",
       "      <td>4.7</td>\n",
       "      <td>47</td>\n",
       "      <td>41.82</td>\n",
       "      <td>Pan Macmillan</td>\n",
       "      <td>112.0</td>\n",
       "      <td>Humor , Topic , Business &amp;amp, Professional</td>\n",
       "      <td>Oct 17, 2019</td>\n",
       "    </tr>\n",
       "    <tr>\n",
       "      <th>578</th>\n",
       "      <td>Rhys Bowen</td>\n",
       "      <td>3.8</td>\n",
       "      <td>103</td>\n",
       "      <td>31.46</td>\n",
       "      <td>Penguin</td>\n",
       "      <td>336.0</td>\n",
       "      <td>none</td>\n",
       "      <td>Jul 1, 2008</td>\n",
       "    </tr>\n",
       "    <tr>\n",
       "      <th>1164</th>\n",
       "      <td>Chimamanda Ngozi Adichie</td>\n",
       "      <td>4.2</td>\n",
       "      <td>272</td>\n",
       "      <td>23.85</td>\n",
       "      <td>Vintage</td>\n",
       "      <td>32.0</td>\n",
       "      <td>Social Science , Feminism &amp;amp, Feminist Theory</td>\n",
       "      <td>Jul 29, 2014</td>\n",
       "    </tr>\n",
       "    <tr>\n",
       "      <th>722</th>\n",
       "      <td>Jana DeLeon</td>\n",
       "      <td>4.8</td>\n",
       "      <td>85</td>\n",
       "      <td>23.59</td>\n",
       "      <td>Jana DeLeon</td>\n",
       "      <td>360.0</td>\n",
       "      <td>none</td>\n",
       "      <td>Aug 8, 2016</td>\n",
       "    </tr>\n",
       "    <tr>\n",
       "      <th>561</th>\n",
       "      <td>Steven D. Levitt</td>\n",
       "      <td>4.3</td>\n",
       "      <td>532</td>\n",
       "      <td>50.25</td>\n",
       "      <td>Harper Collins</td>\n",
       "      <td>304.0</td>\n",
       "      <td>Business &amp;amp, Economics , Skills</td>\n",
       "      <td>May 12, 2014</td>\n",
       "    </tr>\n",
       "  </tbody>\n",
       "</table>\n",
       "</div>"
      ],
      "text/plain": [
       "                        author  rating voters  price       publisher  \\\n",
       "1231                  Adam Kay     4.7     47  41.82   Pan Macmillan   \n",
       "578                 Rhys Bowen     3.8    103  31.46         Penguin   \n",
       "1164  Chimamanda Ngozi Adichie     4.2    272  23.85         Vintage   \n",
       "722                Jana DeLeon     4.8     85  23.59     Jana DeLeon   \n",
       "561           Steven D. Levitt     4.3    532  50.25  Harper Collins   \n",
       "\n",
       "      page_count                                          generes  \\\n",
       "1231       112.0      Humor , Topic , Business &amp, Professional   \n",
       "578        336.0                                             none   \n",
       "1164        32.0  Social Science , Feminism &amp, Feminist Theory   \n",
       "722        360.0                                             none   \n",
       "561        304.0                Business &amp, Economics , Skills   \n",
       "\n",
       "     published_date  \n",
       "1231   Oct 17, 2019  \n",
       "578     Jul 1, 2008  \n",
       "1164   Jul 29, 2014  \n",
       "722     Aug 8, 2016  \n",
       "561    May 12, 2014  "
      ]
     },
     "execution_count": 18,
     "metadata": {},
     "output_type": "execute_result"
    }
   ],
   "source": [
    "test_set.head()"
   ]
  },
  {
   "cell_type": "code",
   "execution_count": 19,
   "id": "9baa7fda",
   "metadata": {},
   "outputs": [],
   "source": [
    "from sklearn.model_selection import train_test_split\n",
    "\n",
    "train_set, test_set = train_test_split(books, test_size=0.2, random_state=42)"
   ]
  },
  {
   "cell_type": "code",
   "execution_count": 20,
   "id": "3cdf40a3",
   "metadata": {},
   "outputs": [
    {
     "data": {
      "text/html": [
       "<div>\n",
       "<style scoped>\n",
       "    .dataframe tbody tr th:only-of-type {\n",
       "        vertical-align: middle;\n",
       "    }\n",
       "\n",
       "    .dataframe tbody tr th {\n",
       "        vertical-align: top;\n",
       "    }\n",
       "\n",
       "    .dataframe thead th {\n",
       "        text-align: right;\n",
       "    }\n",
       "</style>\n",
       "<table border=\"1\" class=\"dataframe\">\n",
       "  <thead>\n",
       "    <tr style=\"text-align: right;\">\n",
       "      <th></th>\n",
       "      <th>author</th>\n",
       "      <th>rating</th>\n",
       "      <th>voters</th>\n",
       "      <th>price</th>\n",
       "      <th>publisher</th>\n",
       "      <th>page_count</th>\n",
       "      <th>generes</th>\n",
       "      <th>published_date</th>\n",
       "    </tr>\n",
       "  </thead>\n",
       "  <tbody>\n",
       "    <tr>\n",
       "      <th>1231</th>\n",
       "      <td>Adam Kay</td>\n",
       "      <td>4.7</td>\n",
       "      <td>47</td>\n",
       "      <td>41.82</td>\n",
       "      <td>Pan Macmillan</td>\n",
       "      <td>112.0</td>\n",
       "      <td>Humor , Topic , Business &amp;amp, Professional</td>\n",
       "      <td>Oct 17, 2019</td>\n",
       "    </tr>\n",
       "    <tr>\n",
       "      <th>578</th>\n",
       "      <td>Rhys Bowen</td>\n",
       "      <td>3.8</td>\n",
       "      <td>103</td>\n",
       "      <td>31.46</td>\n",
       "      <td>Penguin</td>\n",
       "      <td>336.0</td>\n",
       "      <td>none</td>\n",
       "      <td>Jul 1, 2008</td>\n",
       "    </tr>\n",
       "    <tr>\n",
       "      <th>1164</th>\n",
       "      <td>Chimamanda Ngozi Adichie</td>\n",
       "      <td>4.2</td>\n",
       "      <td>272</td>\n",
       "      <td>23.85</td>\n",
       "      <td>Vintage</td>\n",
       "      <td>32.0</td>\n",
       "      <td>Social Science , Feminism &amp;amp, Feminist Theory</td>\n",
       "      <td>Jul 29, 2014</td>\n",
       "    </tr>\n",
       "    <tr>\n",
       "      <th>722</th>\n",
       "      <td>Jana DeLeon</td>\n",
       "      <td>4.8</td>\n",
       "      <td>85</td>\n",
       "      <td>23.59</td>\n",
       "      <td>Jana DeLeon</td>\n",
       "      <td>360.0</td>\n",
       "      <td>none</td>\n",
       "      <td>Aug 8, 2016</td>\n",
       "    </tr>\n",
       "    <tr>\n",
       "      <th>561</th>\n",
       "      <td>Steven D. Levitt</td>\n",
       "      <td>4.3</td>\n",
       "      <td>532</td>\n",
       "      <td>50.25</td>\n",
       "      <td>Harper Collins</td>\n",
       "      <td>304.0</td>\n",
       "      <td>Business &amp;amp, Economics , Skills</td>\n",
       "      <td>May 12, 2014</td>\n",
       "    </tr>\n",
       "  </tbody>\n",
       "</table>\n",
       "</div>"
      ],
      "text/plain": [
       "                        author  rating voters  price       publisher  \\\n",
       "1231                  Adam Kay     4.7     47  41.82   Pan Macmillan   \n",
       "578                 Rhys Bowen     3.8    103  31.46         Penguin   \n",
       "1164  Chimamanda Ngozi Adichie     4.2    272  23.85         Vintage   \n",
       "722                Jana DeLeon     4.8     85  23.59     Jana DeLeon   \n",
       "561           Steven D. Levitt     4.3    532  50.25  Harper Collins   \n",
       "\n",
       "      page_count                                          generes  \\\n",
       "1231       112.0      Humor , Topic , Business &amp, Professional   \n",
       "578        336.0                                             none   \n",
       "1164        32.0  Social Science , Feminism &amp, Feminist Theory   \n",
       "722        360.0                                             none   \n",
       "561        304.0                Business &amp, Economics , Skills   \n",
       "\n",
       "     published_date  \n",
       "1231   Oct 17, 2019  \n",
       "578     Jul 1, 2008  \n",
       "1164   Jul 29, 2014  \n",
       "722     Aug 8, 2016  \n",
       "561    May 12, 2014  "
      ]
     },
     "execution_count": 20,
     "metadata": {},
     "output_type": "execute_result"
    }
   ],
   "source": [
    "test_set.head()"
   ]
  },
  {
   "cell_type": "code",
   "execution_count": 21,
   "id": "d0d31652",
   "metadata": {},
   "outputs": [
    {
     "data": {
      "text/plain": [
       "<AxesSubplot:>"
      ]
     },
     "execution_count": 21,
     "metadata": {},
     "output_type": "execute_result"
    },
    {
     "data": {
      "image/png": "[encoded data removed]",
      "text/plain": [
       "<Figure size 1440x1080 with 1 Axes>"
      ]
     },
     "metadata": {
      "needs_background": "light"
     },
     "output_type": "display_data"
    }
   ],
   "source": [
    "\n",
    "\n",
    "books[\"price\"].hist(bins=200, figsize=(20,15))"
   ]
  },
  {
   "cell_type": "code",
   "execution_count": 127,
   "id": "b89c95f9",
   "metadata": {},
   "outputs": [],
   "source": [
    "from sklearn.model_selection import ShuffleSplit\n",
    "\n",
    "split = ShuffleSplit(n_splits=1, test_size=0.2, random_state=42)\n",
    "for train_index, test_index in split.split(books, books[\"price\"]):\n",
    "    strat_train_set = books.loc[train_index]\n",
    "    strat_test_set = books.loc[test_index]"
   ]
  },
  {
   "cell_type": "code",
   "execution_count": 128,
   "id": "76384c43",
   "metadata": {
    "scrolled": true
   },
   "outputs": [
    {
     "data": {
      "text/plain": [
       "<AxesSubplot:xlabel='price', ylabel='rating'>"
      ]
     },
     "execution_count": 128,
     "metadata": {},
     "output_type": "execute_result"
    },
    {
     "data": {
      "image/png": "[encoded data removed]",
      "text/plain": [
       "<Figure size 432x288 with 1 Axes>"
      ]
     },
     "metadata": {
      "needs_background": "light"
     },
     "output_type": "display_data"
    },
    {
     "data": {
      "image/png": "[encoded data removed]",
      "text/plain": [
       "<Figure size 432x288 with 1 Axes>"
      ]
     },
     "metadata": {
      "needs_background": "light"
     },
     "output_type": "display_data"
    }
   ],
   "source": [
    "#visualizing the data points\n",
    "\n",
    "books.plot(kind=\"scatter\", x=\"price\", y=\"page_count\", alpha=0.05)\n",
    "books.plot(kind=\"scatter\", x=\"price\", y=\"rating\", alpha=0.05)"
   ]
  },
  {
   "cell_type": "code",
   "execution_count": 129,
   "id": "805356d9",
   "metadata": {
    "scrolled": false
   },
   "outputs": [
    {
     "name": "stderr",
     "output_type": "stream",
     "text": [
      "/tmp/ipykernel_31716/3128868661.py:1: FutureWarning: The default value of numeric_only in DataFrame.corr is deprecated. In a future version, it will default to False. Select only valid columns or specify the value of numeric_only to silence this warning.\n",
      "  books.corr(method='spearman')\n"
     ]
    },
    {
     "data": {
      "text/html": [
       "<div>\n",
       "<style scoped>\n",
       "    .dataframe tbody tr th:only-of-type {\n",
       "        vertical-align: middle;\n",
       "    }\n",
       "\n",
       "    .dataframe tbody tr th {\n",
       "        vertical-align: top;\n",
       "    }\n",
       "\n",
       "    .dataframe thead th {\n",
       "        text-align: right;\n",
       "    }\n",
       "</style>\n",
       "<table border=\"1\" class=\"dataframe\">\n",
       "  <thead>\n",
       "    <tr style=\"text-align: right;\">\n",
       "      <th></th>\n",
       "      <th>rating</th>\n",
       "      <th>price</th>\n",
       "      <th>page_count</th>\n",
       "    </tr>\n",
       "  </thead>\n",
       "  <tbody>\n",
       "    <tr>\n",
       "      <th>rating</th>\n",
       "      <td>1.000000</td>\n",
       "      <td>-0.078441</td>\n",
       "      <td>0.065002</td>\n",
       "    </tr>\n",
       "    <tr>\n",
       "      <th>price</th>\n",
       "      <td>-0.078441</td>\n",
       "      <td>1.000000</td>\n",
       "      <td>0.322796</td>\n",
       "    </tr>\n",
       "    <tr>\n",
       "      <th>page_count</th>\n",
       "      <td>0.065002</td>\n",
       "      <td>0.322796</td>\n",
       "      <td>1.000000</td>\n",
       "    </tr>\n",
       "  </tbody>\n",
       "</table>\n",
       "</div>"
      ],
      "text/plain": [
       "              rating     price  page_count\n",
       "rating      1.000000 -0.078441    0.065002\n",
       "price      -0.078441  1.000000    0.322796\n",
       "page_count  0.065002  0.322796    1.000000"
      ]
     },
     "execution_count": 129,
     "metadata": {},
     "output_type": "execute_result"
    }
   ],
   "source": [
    "books.corr(method='spearman')\n"
   ]
  },
  {
   "cell_type": "code",
   "execution_count": 130,
   "id": "d629a641",
   "metadata": {},
   "outputs": [
    {
     "data": {
      "text/html": [
       "<div>\n",
       "<style scoped>\n",
       "    .dataframe tbody tr th:only-of-type {\n",
       "        vertical-align: middle;\n",
       "    }\n",
       "\n",
       "    .dataframe tbody tr th {\n",
       "        vertical-align: top;\n",
       "    }\n",
       "\n",
       "    .dataframe thead th {\n",
       "        text-align: right;\n",
       "    }\n",
       "</style>\n",
       "<table border=\"1\" class=\"dataframe\">\n",
       "  <thead>\n",
       "    <tr style=\"text-align: right;\">\n",
       "      <th></th>\n",
       "      <th>author</th>\n",
       "      <th>rating</th>\n",
       "      <th>voters</th>\n",
       "      <th>price</th>\n",
       "      <th>publisher</th>\n",
       "      <th>page_count</th>\n",
       "      <th>generes</th>\n",
       "      <th>published_date</th>\n",
       "    </tr>\n",
       "  </thead>\n",
       "  <tbody>\n",
       "    <tr>\n",
       "      <th>0</th>\n",
       "      <td>71</td>\n",
       "      <td>4.6</td>\n",
       "      <td>101</td>\n",
       "      <td>43.28</td>\n",
       "      <td>47</td>\n",
       "      <td>192.0</td>\n",
       "      <td>241</td>\n",
       "      <td>108</td>\n",
       "    </tr>\n",
       "    <tr>\n",
       "      <th>1</th>\n",
       "      <td>12</td>\n",
       "      <td>3.3</td>\n",
       "      <td>55</td>\n",
       "      <td>26.15</td>\n",
       "      <td>44</td>\n",
       "      <td>288.0</td>\n",
       "      <td>130</td>\n",
       "      <td>87</td>\n",
       "    </tr>\n",
       "    <tr>\n",
       "      <th>2</th>\n",
       "      <td>128</td>\n",
       "      <td>3.9</td>\n",
       "      <td>154</td>\n",
       "      <td>133.85</td>\n",
       "      <td>20</td>\n",
       "      <td>368.0</td>\n",
       "      <td>163</td>\n",
       "      <td>173</td>\n",
       "    </tr>\n",
       "    <tr>\n",
       "      <th>3</th>\n",
       "      <td>152</td>\n",
       "      <td>4.0</td>\n",
       "      <td>15</td>\n",
       "      <td>26.15</td>\n",
       "      <td>44</td>\n",
       "      <td>320.0</td>\n",
       "      <td>241</td>\n",
       "      <td>126</td>\n",
       "    </tr>\n",
       "    <tr>\n",
       "      <th>4</th>\n",
       "      <td>135</td>\n",
       "      <td>4.5</td>\n",
       "      <td>123</td>\n",
       "      <td>28.54</td>\n",
       "      <td>34</td>\n",
       "      <td>544.0</td>\n",
       "      <td>113</td>\n",
       "      <td>86</td>\n",
       "    </tr>\n",
       "    <tr>\n",
       "      <th>...</th>\n",
       "      <td>...</td>\n",
       "      <td>...</td>\n",
       "      <td>...</td>\n",
       "      <td>...</td>\n",
       "      <td>...</td>\n",
       "      <td>...</td>\n",
       "      <td>...</td>\n",
       "      <td>...</td>\n",
       "    </tr>\n",
       "    <tr>\n",
       "      <th>1294</th>\n",
       "      <td>0</td>\n",
       "      <td>4.7</td>\n",
       "      <td>107</td>\n",
       "      <td>41.82</td>\n",
       "      <td>60</td>\n",
       "      <td>112.0</td>\n",
       "      <td>183</td>\n",
       "      <td>187</td>\n",
       "    </tr>\n",
       "    <tr>\n",
       "      <th>1295</th>\n",
       "      <td>114</td>\n",
       "      <td>4.8</td>\n",
       "      <td>115</td>\n",
       "      <td>46.85</td>\n",
       "      <td>63</td>\n",
       "      <td>368.0</td>\n",
       "      <td>200</td>\n",
       "      <td>208</td>\n",
       "    </tr>\n",
       "    <tr>\n",
       "      <th>1296</th>\n",
       "      <td>16</td>\n",
       "      <td>3.5</td>\n",
       "      <td>89</td>\n",
       "      <td>46.85</td>\n",
       "      <td>48</td>\n",
       "      <td>176.0</td>\n",
       "      <td>241</td>\n",
       "      <td>20</td>\n",
       "    </tr>\n",
       "    <tr>\n",
       "      <th>1297</th>\n",
       "      <td>74</td>\n",
       "      <td>4.6</td>\n",
       "      <td>141</td>\n",
       "      <td>43.28</td>\n",
       "      <td>50</td>\n",
       "      <td>168.0</td>\n",
       "      <td>241</td>\n",
       "      <td>44</td>\n",
       "    </tr>\n",
       "    <tr>\n",
       "      <th>1298</th>\n",
       "      <td>164</td>\n",
       "      <td>4.3</td>\n",
       "      <td>48</td>\n",
       "      <td>39.34</td>\n",
       "      <td>61</td>\n",
       "      <td>448.0</td>\n",
       "      <td>158</td>\n",
       "      <td>202</td>\n",
       "    </tr>\n",
       "  </tbody>\n",
       "</table>\n",
       "<p>1299 rows × 8 columns</p>\n",
       "</div>"
      ],
      "text/plain": [
       "      author  rating  voters   price  publisher  page_count  generes  \\\n",
       "0         71     4.6     101   43.28         47       192.0      241   \n",
       "1         12     3.3      55   26.15         44       288.0      130   \n",
       "2        128     3.9     154  133.85         20       368.0      163   \n",
       "3        152     4.0      15   26.15         44       320.0      241   \n",
       "4        135     4.5     123   28.54         34       544.0      113   \n",
       "...      ...     ...     ...     ...        ...         ...      ...   \n",
       "1294       0     4.7     107   41.82         60       112.0      183   \n",
       "1295     114     4.8     115   46.85         63       368.0      200   \n",
       "1296      16     3.5      89   46.85         48       176.0      241   \n",
       "1297      74     4.6     141   43.28         50       168.0      241   \n",
       "1298     164     4.3      48   39.34         61       448.0      158   \n",
       "\n",
       "      published_date  \n",
       "0                108  \n",
       "1                 87  \n",
       "2                173  \n",
       "3                126  \n",
       "4                 86  \n",
       "...              ...  \n",
       "1294             187  \n",
       "1295             208  \n",
       "1296              20  \n",
       "1297              44  \n",
       "1298             202  \n",
       "\n",
       "[1299 rows x 8 columns]"
      ]
     },
     "execution_count": 130,
     "metadata": {},
     "output_type": "execute_result"
    }
   ],
   "source": [
    "books_numerized = books\n",
    "\n",
    "for col_name in books_numerized.columns:\n",
    "    if(books_numerized[col_name].dtype == 'object'):\n",
    "        books_numerized[col_name] = books_numerized[col_name].astype('category')\n",
    "        books_numerized[col_name] = books_numerized[col_name].cat.codes\n",
    "    \n",
    "    \n",
    "books_numerized"
   ]
  },
  {
   "cell_type": "code",
   "execution_count": 131,
   "id": "d0b3096f",
   "metadata": {},
   "outputs": [
    {
     "data": {
      "image/png": "[encoded data removed]",
      "text/plain": [
       "<Figure size 432x288 with 2 Axes>"
      ]
     },
     "metadata": {
      "needs_background": "light"
     },
     "output_type": "display_data"
    },
    {
     "data": {
      "text/plain": [
       "<AxesSubplot:xlabel='price', ylabel='page_count'>"
      ]
     },
     "execution_count": 131,
     "metadata": {},
     "output_type": "execute_result"
    },
    {
     "data": {
      "image/png": "[encoded data removed]",
      "text/plain": [
       "<Figure size 432x288 with 1 Axes>"
      ]
     },
     "metadata": {
      "needs_background": "light"
     },
     "output_type": "display_data"
    }
   ],
   "source": [
    "corr_matrix = books_numerized.corr(method='spearman')\n",
    "sns.heatmap(corr_matrix, annot = True)\n",
    "plt.title('Correlation Matrix')\n",
    "plt.xlabel('Book Features')\n",
    "plt.ylabel('Book Features')\n",
    "plt.show()\n",
    "sns.regplot(x='price', y='page_count', data=books, scatter_kws={\"color\": \"red\"}, line_kws={\"color\":\"black\"})"
   ]
  },
  {
   "cell_type": "code",
   "execution_count": null,
   "id": "91f1dc3f",
   "metadata": {},
   "outputs": [],
   "source": []
  },
  {
   "cell_type": "code",
   "execution_count": null,
   "id": "ae9eca60",
   "metadata": {},
   "outputs": [],
   "source": []
  },
  {
   "cell_type": "code",
   "execution_count": null,
   "id": "e8f728e2",
   "metadata": {},
   "outputs": [],
   "source": []
  },
  {
   "cell_type": "code",
   "execution_count": null,
   "id": "a6d15e06",
   "metadata": {},
   "outputs": [],
   "source": []
  },
  {
   "cell_type": "code",
   "execution_count": null,
   "id": "dd33f45c",
   "metadata": {},
   "outputs": [],
   "source": []
  },
  {
   "cell_type": "code",
   "execution_count": null,
   "id": "3c5c2901",
   "metadata": {},
   "outputs": [],
   "source": []
  }
 ],
 "metadata": {
  "kernelspec": {
   "display_name": "Python 3 (ipykernel)",
   "language": "python",
   "name": "python3"
  },
  "language_info": {
   "codemirror_mode": {
    "name": "ipython",
    "version": 3
   },
   "file_extension": ".py",
   "mimetype": "text/x-python",
   "name": "python",
   "nbconvert_exporter": "python",
   "pygments_lexer": "ipython3",
   "version": "3.10.6"
  }
 },
 "nbformat": 4,
 "nbformat_minor": 5
}
